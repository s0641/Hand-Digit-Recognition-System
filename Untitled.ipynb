{
 "cells": [
  {
   "cell_type": "code",
   "execution_count": 1,
   "metadata": {},
   "outputs": [],
   "source": [
    "import numpy as np # needed for array\n",
    "import pandas as pd # needed for reading CSV\n",
    "import matplotlib.pyplot as plt # for common graph plotting"
   ]
  },
  {
   "cell_type": "code",
   "execution_count": 2,
   "metadata": {},
   "outputs": [
    {
     "name": "stdout",
     "output_type": "stream",
     "text": [
      "(42000, 785)\n",
      "(28000, 784)\n"
     ]
    }
   ],
   "source": [
    "data_train = pd.read_csv('train.csv')\n",
    "data_test = pd.read_csv('test.csv')\n",
    "\n",
    "print(data_train.shape)\n",
    "print(data_test.shape)"
   ]
  },
  {
   "cell_type": "code",
   "execution_count": 3,
   "metadata": {},
   "outputs": [
    {
     "name": "stdout",
     "output_type": "stream",
     "text": [
      "(5000, 784)\n",
      "(5000,)\n",
      "(28000, 784)\n"
     ]
    }
   ],
   "source": [
    "X = data_train.values[0:5000, 1:] # us 5000 to test the code\n",
    "y = data_train.values[0:5000, 0]\n",
    "X_data_test = data_test.values\n",
    "\n",
    "print(X.shape)\n",
    "print(y.shape)\n",
    "print(X_data_test.shape)"
   ]
  },
  {
   "cell_type": "code",
   "execution_count": 4,
   "metadata": {},
   "outputs": [
    {
     "name": "stdout",
     "output_type": "stream",
     "text": [
      "8\n"
     ]
    },
    {
     "data": {
      "image/png": "[encoded data removed]",
      "text/plain": [
       "<Figure size 432x288 with 1 Axes>"
      ]
     },
     "metadata": {},
     "output_type": "display_data"
    }
   ],
   "source": [
    "print(y[20])\n",
    "\n",
    "plt.imshow(X[20].reshape((28, 28)))\n",
    "plt.show()"
   ]
  },
  {
   "cell_type": "code",
   "execution_count": 5,
   "metadata": {},
   "outputs": [
    {
     "name": "stdout",
     "output_type": "stream",
     "text": [
      "(4000, 784)\n",
      "(1000, 784)\n",
      "(4000,)\n",
      "(1000,)\n"
     ]
    }
   ],
   "source": [
    "from sklearn.model_selection import train_test_split\n",
    "\n",
    "X_train, X_test, y_train, y_test = train_test_split(X, y, test_size=0.2, random_state=0)\n",
    "\n",
    "print(X_train.shape)\n",
    "print(X_test.shape)\n",
    "print(y_train.shape)\n",
    "print(y_test.shape)"
   ]
  },
  {
   "cell_type": "code",
   "execution_count": 6,
   "metadata": {},
   "outputs": [
    {
     "name": "stdout",
     "output_type": "stream",
     "text": [
      "k =  1 begin\n",
      "             precision    recall  f1-score   support\n",
      "\n",
      "          0       0.96      0.98      0.97       103\n",
      "          1       0.90      0.98      0.94       100\n",
      "          2       0.97      0.88      0.92       104\n",
      "          3       0.89      0.93      0.91       100\n",
      "          4       0.93      0.93      0.93       107\n",
      "          5       0.95      0.88      0.92        94\n",
      "          6       0.93      0.97      0.95        93\n",
      "          7       0.92      0.94      0.93       116\n",
      "          8       0.89      0.85      0.87        85\n",
      "          9       0.85      0.85      0.85        98\n",
      "\n",
      "avg / total       0.92      0.92      0.92      1000\n",
      "\n",
      "[[101   0   0   1   0   0   1   0   0   0]\n",
      " [  0  98   0   1   0   0   0   0   0   1]\n",
      " [  0   1  91   2   2   0   1   2   3   2]\n",
      " [  0   0   1  93   0   1   0   1   3   1]\n",
      " [  0   0   0   0  99   0   1   0   0   7]\n",
      " [  0   2   1   3   0  83   3   0   2   0]\n",
      " [  1   1   0   0   0   0  90   0   1   0]\n",
      " [  0   4   0   0   1   0   0 109   0   2]\n",
      " [  0   2   1   3   1   3   1   0  72   2]\n",
      " [  3   1   0   1   4   0   0   6   0  83]]\n",
      "total time used is  16.933704137802124 secs.\n",
      "k =  2 begin\n",
      "             precision    recall  f1-score   support\n",
      "\n",
      "          0       0.89      0.99      0.94       103\n",
      "          1       0.85      0.99      0.92       100\n",
      "          2       0.94      0.88      0.91       104\n",
      "          3       0.89      0.94      0.91       100\n",
      "          4       0.91      0.99      0.95       107\n",
      "          5       0.94      0.84      0.89        94\n",
      "          6       0.95      0.96      0.95        93\n",
      "          7       0.90      0.91      0.90       116\n",
      "          8       0.93      0.75      0.83        85\n",
      "          9       0.90      0.78      0.84        98\n",
      "\n",
      "avg / total       0.91      0.91      0.90      1000\n",
      "\n",
      "[[102   0   0   1   0   0   0   0   0   0]\n",
      " [  0  99   0   0   0   0   0   0   0   1]\n",
      " [  3   2  92   0   0   0   0   2   3   2]\n",
      " [  1   0   1  94   0   0   0   1   2   1]\n",
      " [  0   0   0   0 106   0   0   0   0   1]\n",
      " [  1   3   1   5   1  79   4   0   0   0]\n",
      " [  3   1   0   0   0   0  89   0   0   0]\n",
      " [  0   7   1   0   2   0   0 105   0   1]\n",
      " [  2   3   3   4   1   5   1   0  64   2]\n",
      " [  3   1   0   2   7   0   0   9   0  76]]\n",
      "total time used is  16.65689516067505 secs.\n",
      "k =  3 begin\n",
      "             precision    recall  f1-score   support\n",
      "\n",
      "          0       0.94      0.98      0.96       103\n",
      "          1       0.84      0.98      0.90       100\n",
      "          2       0.95      0.88      0.92       104\n",
      "          3       0.94      0.96      0.95       100\n",
      "          4       0.95      0.93      0.94       107\n",
      "          5       0.97      0.89      0.93        94\n",
      "          6       0.92      0.97      0.94        93\n",
      "          7       0.94      0.91      0.92       116\n",
      "          8       0.92      0.82      0.87        85\n",
      "          9       0.86      0.87      0.86        98\n",
      "\n",
      "avg / total       0.92      0.92      0.92      1000\n",
      "\n",
      "[[101   0   0   0   0   0   2   0   0   0]\n",
      " [  0  98   0   0   0   0   1   0   0   1]\n",
      " [  1   3  92   1   0   0   0   2   3   2]\n",
      " [  0   0   0  96   0   0   0   1   2   1]\n",
      " [  0   0   0   0  99   0   1   0   0   7]\n",
      " [  0   3   1   2   0  84   3   0   1   0]\n",
      " [  2   0   0   0   0   1  90   0   0   0]\n",
      " [  0   9   0   0   1   0   0 105   0   1]\n",
      " [  1   3   3   2   1   2   1   0  70   2]\n",
      " [  3   1   1   1   3   0   0   4   0  85]]\n",
      "total time used is  16.691357135772705 secs.\n",
      "k =  4 begin\n",
      "             precision    recall  f1-score   support\n",
      "\n",
      "          0       0.94      0.98      0.96       103\n",
      "          1       0.87      0.98      0.92       100\n",
      "          2       0.94      0.89      0.92       104\n",
      "          3       0.94      0.93      0.93       100\n",
      "          4       0.94      0.94      0.94       107\n",
      "          5       0.94      0.87      0.91        94\n",
      "          6       0.90      0.98      0.94        93\n",
      "          7       0.91      0.92      0.91       116\n",
      "          8       0.93      0.80      0.86        85\n",
      "          9       0.86      0.83      0.84        98\n",
      "\n",
      "avg / total       0.92      0.92      0.91      1000\n",
      "\n",
      "[[101   0   0   0   0   0   2   0   0   0]\n",
      " [  0  98   0   0   0   0   1   0   0   1]\n",
      " [  0   3  93   1   0   0   0   3   3   1]\n",
      " [  1   0   1  93   0   0   1   1   2   1]\n",
      " [  0   0   0   0 101   0   0   0   0   6]\n",
      " [  1   3   1   2   0  82   5   0   0   0]\n",
      " [  1   0   0   0   0   1  91   0   0   0]\n",
      " [  0   5   0   0   2   0   0 107   0   2]\n",
      " [  1   3   3   2   1   4   1   0  68   2]\n",
      " [  3   1   1   1   4   0   0   7   0  81]]\n",
      "total time used is  16.531781673431396 secs.\n",
      "k =  5 begin\n",
      "             precision    recall  f1-score   support\n",
      "\n",
      "          0       0.94      0.98      0.96       103\n",
      "          1       0.85      0.98      0.91       100\n",
      "          2       0.97      0.91      0.94       104\n",
      "          3       0.94      0.92      0.93       100\n",
      "          4       0.94      0.93      0.93       107\n",
      "          5       0.92      0.86      0.89        94\n",
      "          6       0.88      0.98      0.93        93\n",
      "          7       0.93      0.90      0.91       116\n",
      "          8       0.93      0.81      0.87        85\n",
      "          9       0.86      0.87      0.86        98\n",
      "\n",
      "avg / total       0.92      0.92      0.91      1000\n",
      "\n",
      "[[101   0   0   0   0   0   2   0   0   0]\n",
      " [  0  98   0   0   0   0   1   0   0   1]\n",
      " [  0   3  95   0   0   0   0   2   3   1]\n",
      " [  1   0   1  92   0   1   1   1   2   1]\n",
      " [  0   0   0   0  99   0   1   0   0   7]\n",
      " [  1   3   1   2   0  81   6   0   0   0]\n",
      " [  1   0   0   0   0   1  91   0   0   0]\n",
      " [  0   7   0   0   3   0   0 104   0   2]\n",
      " [  1   3   0   3   1   5   1   0  69   2]\n",
      " [  3   1   1   1   2   0   0   5   0  85]]\n",
      "total time used is  16.840954542160034 secs.\n",
      "k =  6 begin\n",
      "             precision    recall  f1-score   support\n",
      "\n",
      "          0       0.95      0.98      0.97       103\n",
      "          1       0.84      0.98      0.90       100\n",
      "          2       0.98      0.90      0.94       104\n",
      "          3       0.92      0.94      0.93       100\n",
      "          4       0.94      0.92      0.93       107\n",
      "          5       0.93      0.87      0.90        94\n",
      "          6       0.89      0.98      0.93        93\n",
      "          7       0.92      0.91      0.91       116\n",
      "          8       0.93      0.79      0.85        85\n",
      "          9       0.85      0.86      0.85        98\n",
      "\n",
      "avg / total       0.92      0.91      0.91      1000\n",
      "\n",
      "[[101   0   0   0   0   0   2   0   0   0]\n",
      " [  0  98   0   0   0   0   1   0   0   1]\n",
      " [  0   3  94   1   0   0   0   2   3   1]\n",
      " [  0   0   1  94   0   0   1   1   2   1]\n",
      " [  0   2   0   0  98   0   1   0   0   6]\n",
      " [  1   3   0   2   0  82   5   0   0   1]\n",
      " [  1   0   0   0   0   1  91   0   0   0]\n",
      " [  0   7   0   0   2   0   0 105   0   2]\n",
      " [  1   3   0   4   1   5   1   0  67   3]\n",
      " [  2   1   1   1   3   0   0   6   0  84]]\n",
      "total time used is  16.873937129974365 secs.\n",
      "best k is \n"
     ]
    }
   ],
   "source": [
    "import time\n",
    "from sklearn.metrics import accuracy_score, classification_report, confusion_matrix\n",
    "from sklearn.neighbors import KNeighborsClassifier\n",
    "\n",
    "#neigh = KNeighborsClassifier(n_neighbors=3)\n",
    "#neigh.fit(X, y) \n",
    "range_k = range(1, 7)\n",
    "scores = []\n",
    "best_k = 0\n",
    "\n",
    "for k in range_k:\n",
    "    \n",
    "    start = time.time()\n",
    "    print('k = ', str(k), 'begin')\n",
    "    knn = KNeighborsClassifier(n_neighbors = k)\n",
    "    knn.fit(X_train, y_train)\n",
    "    \n",
    "    y_pred = knn.predict(X_test)\n",
    "    \n",
    "    accuracy = accuracy_score(y_test, y_pred)\n",
    "    scores.append(accuracy)\n",
    "    end = time.time()\n",
    "    \n",
    "    print(classification_report(y_test, y_pred))\n",
    "    print(confusion_matrix(y_test, y_pred))\n",
    "    print('total time used is ', str(end - start), 'secs.')\n",
    "    \n",
    "#best_k = max(scores)\n",
    "print('best k is ' )"
   ]
  },
  {
   "cell_type": "code",
   "execution_count": 7,
   "metadata": {},
   "outputs": [
    {
     "data": {
      "image/png": "[encoded data removed]",
      "text/plain": [
       "<Figure size 432x288 with 1 Axes>"
      ]
     },
     "metadata": {},
     "output_type": "display_data"
    }
   ],
   "source": [
    "plt.plot(range_k, scores)\n",
    "plt.xlabel('range of k')\n",
    "plt.ylabel('accuracy scores')\n",
    "plt.show()"
   ]
  },
  {
   "cell_type": "code",
   "execution_count": null,
   "metadata": {},
   "outputs": [],
   "source": [
    "#start = time.time()\n",
    "#print('k = ', str(k), 'begin')\n",
    "knn = KNeighborsClassifier(n_neighbors = 4)\n",
    "knn.fit(X_train, y_train)\n",
    "\n",
    "y_pred2 = knn.predict(X_data_test)\n",
    "\n",
    "#accuracy = accuracy_score(y_test, y_pred)\n",
    "#scores.append(accuracy)\n",
    "#end = time.time()\n",
    "\n",
    "#print(classification_report(y_test, y_pred))\n",
    "#print(confusion_matrix(y_test, y_pred))\n",
    "#print('total time used is ', str(end - start), 'secs.')"
   ]
  },
  {
   "cell_type": "code",
   "execution_count": null,
   "metadata": {},
   "outputs": [],
   "source": [
    "#does it predict correctly for a certain number?\n",
    "print(y_pred2[100])\n",
    "\n",
    "plt.imshow(X_data_test[100].reshape((28,28)))\n",
    "plt.show()"
   ]
  },
  {
   "cell_type": "code",
   "execution_count": null,
   "metadata": {},
   "outputs": [],
   "source": [
    "print(len(y_pred))\n",
    "\n",
    "# save submission to csv\n",
    "pd.DataFrame({\"ImageId\": list(range(1,len(y_pred)+1)),\"Label\": y_pred}).to_csv('Digit_Recogniser_Result.csv', index=False,header=True)"
   ]
  }
 ],
 "metadata": {
  "kernelspec": {
   "display_name": "Python 3",
   "language": "python",
   "name": "python3"
  },
  "language_info": {
   "codemirror_mode": {
    "name": "ipython",
    "version": 3
   },
   "file_extension": ".py",
   "mimetype": "text/x-python",
   "name": "python",
   "nbconvert_exporter": "python",
   "pygments_lexer": "ipython3",
   "version": "3.6.5"
  }
 },
 "nbformat": 4,
 "nbformat_minor": 2
}
